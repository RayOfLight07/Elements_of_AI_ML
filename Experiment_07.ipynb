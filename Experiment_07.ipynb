{
  "nbformat": 4,
  "nbformat_minor": 0,
  "metadata": {
    "colab": {
      "provenance": [],
      "authorship_tag": "ABX9TyNjtGuxF96uqB3KnjYONL7v",
      "include_colab_link": true
    },
    "kernelspec": {
      "name": "python3",
      "display_name": "Python 3"
    },
    "language_info": {
      "name": "python"
    }
  },
  "cells": [
    {
      "cell_type": "markdown",
      "metadata": {
        "id": "view-in-github",
        "colab_type": "text"
      },
      "source": [
        "<a href=\"https://colab.research.google.com/github/RayOfLight07/Elements_of_AI_ML/blob/main/Experiment_07.ipynb\" target=\"_parent\"><img src=\"https://colab.research.google.com/assets/colab-badge.svg\" alt=\"Open In Colab\"/></a>"
      ]
    },
    {
      "cell_type": "markdown",
      "source": [
        "Implement feature scaling and one hot encoding data preprocessing\n",
        "techniques on the dataset imported in lab 4 or any other dataset."
      ],
      "metadata": {
        "id": "8vSn7PO2ojhl"
      }
    },
    {
      "cell_type": "markdown",
      "source": [
        "# **Upload the Dataset**"
      ],
      "metadata": {
        "id": "TUxGdwpfv3HB"
      }
    },
    {
      "cell_type": "code",
      "source": [
        "from google.colab import files\n",
        "import pandas as pd\n",
        "\n",
        "# Upload the dataset\n",
        "uploaded = files.upload()\n",
        "\n",
        "# Load the dataset from the uploaded file\n",
        "file_name = list(uploaded.keys())[0]\n",
        "df = pd.read_csv(file_name)\n",
        "\n",
        "# Display the first few rows of the dataset\n",
        "print(\"\\nOriginal Dataset:\")\n",
        "print(df.head())\n"
      ],
      "metadata": {
        "colab": {
          "base_uri": "https://localhost:8080/",
          "height": 455
        },
        "id": "fZkEkY2ptQZc",
        "outputId": "6f5710b5-7397-4dd8-9f1e-92cd4c82c460"
      },
      "execution_count": null,
      "outputs": [
        {
          "output_type": "display_data",
          "data": {
            "text/plain": [
              "<IPython.core.display.HTML object>"
            ],
            "text/html": [
              "\n",
              "     <input type=\"file\" id=\"files-2f66acfd-7a96-4313-bbdf-9862bebeeffd\" name=\"files[]\" multiple disabled\n",
              "        style=\"border:none\" />\n",
              "     <output id=\"result-2f66acfd-7a96-4313-bbdf-9862bebeeffd\">\n",
              "      Upload widget is only available when the cell has been executed in the\n",
              "      current browser session. Please rerun this cell to enable.\n",
              "      </output>\n",
              "      <script>// Copyright 2017 Google LLC\n",
              "//\n",
              "// Licensed under the Apache License, Version 2.0 (the \"License\");\n",
              "// you may not use this file except in compliance with the License.\n",
              "// You may obtain a copy of the License at\n",
              "//\n",
              "//      http://www.apache.org/licenses/LICENSE-2.0\n",
              "//\n",
              "// Unless required by applicable law or agreed to in writing, software\n",
              "// distributed under the License is distributed on an \"AS IS\" BASIS,\n",
              "// WITHOUT WARRANTIES OR CONDITIONS OF ANY KIND, either express or implied.\n",
              "// See the License for the specific language governing permissions and\n",
              "// limitations under the License.\n",
              "\n",
              "/**\n",
              " * @fileoverview Helpers for google.colab Python module.\n",
              " */\n",
              "(function(scope) {\n",
              "function span(text, styleAttributes = {}) {\n",
              "  const element = document.createElement('span');\n",
              "  element.textContent = text;\n",
              "  for (const key of Object.keys(styleAttributes)) {\n",
              "    element.style[key] = styleAttributes[key];\n",
              "  }\n",
              "  return element;\n",
              "}\n",
              "\n",
              "// Max number of bytes which will be uploaded at a time.\n",
              "const MAX_PAYLOAD_SIZE = 100 * 1024;\n",
              "\n",
              "function _uploadFiles(inputId, outputId) {\n",
              "  const steps = uploadFilesStep(inputId, outputId);\n",
              "  const outputElement = document.getElementById(outputId);\n",
              "  // Cache steps on the outputElement to make it available for the next call\n",
              "  // to uploadFilesContinue from Python.\n",
              "  outputElement.steps = steps;\n",
              "\n",
              "  return _uploadFilesContinue(outputId);\n",
              "}\n",
              "\n",
              "// This is roughly an async generator (not supported in the browser yet),\n",
              "// where there are multiple asynchronous steps and the Python side is going\n",
              "// to poll for completion of each step.\n",
              "// This uses a Promise to block the python side on completion of each step,\n",
              "// then passes the result of the previous step as the input to the next step.\n",
              "function _uploadFilesContinue(outputId) {\n",
              "  const outputElement = document.getElementById(outputId);\n",
              "  const steps = outputElement.steps;\n",
              "\n",
              "  const next = steps.next(outputElement.lastPromiseValue);\n",
              "  return Promise.resolve(next.value.promise).then((value) => {\n",
              "    // Cache the last promise value to make it available to the next\n",
              "    // step of the generator.\n",
              "    outputElement.lastPromiseValue = value;\n",
              "    return next.value.response;\n",
              "  });\n",
              "}\n",
              "\n",
              "/**\n",
              " * Generator function which is called between each async step of the upload\n",
              " * process.\n",
              " * @param {string} inputId Element ID of the input file picker element.\n",
              " * @param {string} outputId Element ID of the output display.\n",
              " * @return {!Iterable<!Object>} Iterable of next steps.\n",
              " */\n",
              "function* uploadFilesStep(inputId, outputId) {\n",
              "  const inputElement = document.getElementById(inputId);\n",
              "  inputElement.disabled = false;\n",
              "\n",
              "  const outputElement = document.getElementById(outputId);\n",
              "  outputElement.innerHTML = '';\n",
              "\n",
              "  const pickedPromise = new Promise((resolve) => {\n",
              "    inputElement.addEventListener('change', (e) => {\n",
              "      resolve(e.target.files);\n",
              "    });\n",
              "  });\n",
              "\n",
              "  const cancel = document.createElement('button');\n",
              "  inputElement.parentElement.appendChild(cancel);\n",
              "  cancel.textContent = 'Cancel upload';\n",
              "  const cancelPromise = new Promise((resolve) => {\n",
              "    cancel.onclick = () => {\n",
              "      resolve(null);\n",
              "    };\n",
              "  });\n",
              "\n",
              "  // Wait for the user to pick the files.\n",
              "  const files = yield {\n",
              "    promise: Promise.race([pickedPromise, cancelPromise]),\n",
              "    response: {\n",
              "      action: 'starting',\n",
              "    }\n",
              "  };\n",
              "\n",
              "  cancel.remove();\n",
              "\n",
              "  // Disable the input element since further picks are not allowed.\n",
              "  inputElement.disabled = true;\n",
              "\n",
              "  if (!files) {\n",
              "    return {\n",
              "      response: {\n",
              "        action: 'complete',\n",
              "      }\n",
              "    };\n",
              "  }\n",
              "\n",
              "  for (const file of files) {\n",
              "    const li = document.createElement('li');\n",
              "    li.append(span(file.name, {fontWeight: 'bold'}));\n",
              "    li.append(span(\n",
              "        `(${file.type || 'n/a'}) - ${file.size} bytes, ` +\n",
              "        `last modified: ${\n",
              "            file.lastModifiedDate ? file.lastModifiedDate.toLocaleDateString() :\n",
              "                                    'n/a'} - `));\n",
              "    const percent = span('0% done');\n",
              "    li.appendChild(percent);\n",
              "\n",
              "    outputElement.appendChild(li);\n",
              "\n",
              "    const fileDataPromise = new Promise((resolve) => {\n",
              "      const reader = new FileReader();\n",
              "      reader.onload = (e) => {\n",
              "        resolve(e.target.result);\n",
              "      };\n",
              "      reader.readAsArrayBuffer(file);\n",
              "    });\n",
              "    // Wait for the data to be ready.\n",
              "    let fileData = yield {\n",
              "      promise: fileDataPromise,\n",
              "      response: {\n",
              "        action: 'continue',\n",
              "      }\n",
              "    };\n",
              "\n",
              "    // Use a chunked sending to avoid message size limits. See b/62115660.\n",
              "    let position = 0;\n",
              "    do {\n",
              "      const length = Math.min(fileData.byteLength - position, MAX_PAYLOAD_SIZE);\n",
              "      const chunk = new Uint8Array(fileData, position, length);\n",
              "      position += length;\n",
              "\n",
              "      const base64 = btoa(String.fromCharCode.apply(null, chunk));\n",
              "      yield {\n",
              "        response: {\n",
              "          action: 'append',\n",
              "          file: file.name,\n",
              "          data: base64,\n",
              "        },\n",
              "      };\n",
              "\n",
              "      let percentDone = fileData.byteLength === 0 ?\n",
              "          100 :\n",
              "          Math.round((position / fileData.byteLength) * 100);\n",
              "      percent.textContent = `${percentDone}% done`;\n",
              "\n",
              "    } while (position < fileData.byteLength);\n",
              "  }\n",
              "\n",
              "  // All done.\n",
              "  yield {\n",
              "    response: {\n",
              "      action: 'complete',\n",
              "    }\n",
              "  };\n",
              "}\n",
              "\n",
              "scope.google = scope.google || {};\n",
              "scope.google.colab = scope.google.colab || {};\n",
              "scope.google.colab._files = {\n",
              "  _uploadFiles,\n",
              "  _uploadFilesContinue,\n",
              "};\n",
              "})(self);\n",
              "</script> "
            ]
          },
          "metadata": {}
        },
        {
          "output_type": "stream",
          "name": "stdout",
          "text": [
            "Saving sample_invoice_data.csv to sample_invoice_data.csv\n",
            "\n",
            "Original Dataset:\n",
            "  Invoice ID     Branch       City Customer type  Gender Product line  \\\n",
            "0   INV-8332  Bangalore     Mumbai       Premium    Male    Furniture   \n",
            "1   INV-1309     Mumbai      Delhi       Premium  Female    Furniture   \n",
            "2   INV-7661      Delhi    Chennai       Regular  Female    Groceries   \n",
            "3   INV-5227      Delhi  Bangalore       Regular    Male  Electronics   \n",
            "4   INV-2877     Mumbai     Mumbai       Premium  Female  Electronics   \n",
            "\n",
            "   Unit price  Quantity        Date   Time Payment  Tax 18%    Total  \\\n",
            "0      605.47         3  2023-09-17  14:43     UPI   326.95  2143.36   \n",
            "1       97.27         5  2023-12-10  13:13    Cash    87.54   573.89   \n",
            "2     1268.79         2  2023-03-25  11:26    Card   456.76  2994.34   \n",
            "3      542.51         1  2023-02-15  17:24     UPI    97.65   640.16   \n",
            "4     1354.46         4  2023-06-08  13:03     UPI   975.21  6393.05   \n",
            "\n",
            "   gross income  \n",
            "0        326.95  \n",
            "1         87.54  \n",
            "2        456.76  \n",
            "3         97.65  \n",
            "4        975.21  \n"
          ]
        }
      ]
    },
    {
      "cell_type": "markdown",
      "source": [
        "# **Identify Numerical and Categorical Columns**"
      ],
      "metadata": {
        "id": "cF3JzZoLwAr5"
      }
    },
    {
      "cell_type": "code",
      "source": [
        "# Define numerical and categorical columns\n",
        "numerical_columns = ['Unit price', 'Quantity', 'Tax 18%', 'Total', 'gross income']\n",
        "categorical_columns = ['Branch', 'City', 'Customer type', 'Gender', 'Product line', 'Payment']\n",
        "\n",
        "# Display the columns for reference\n",
        "print(\"\\nNumerical Columns:\", numerical_columns)\n",
        "print(\"\\nCategorical Columns:\", categorical_columns)\n"
      ],
      "metadata": {
        "colab": {
          "base_uri": "https://localhost:8080/"
        },
        "id": "POIJvBEptU_U",
        "outputId": "bdfccf1b-4c40-4dcb-8647-7dbc9433c003"
      },
      "execution_count": null,
      "outputs": [
        {
          "output_type": "stream",
          "name": "stdout",
          "text": [
            "\n",
            "Numerical Columns: ['Unit price', 'Quantity', 'Tax 18%', 'Total', 'gross income']\n",
            "\n",
            "Categorical Columns: ['Branch', 'City', 'Customer type', 'Gender', 'Product line', 'Payment']\n"
          ]
        }
      ]
    },
    {
      "cell_type": "markdown",
      "source": [
        "# **Feature Scaling**"
      ],
      "metadata": {
        "id": "CQQ9K9QmwJmy"
      }
    },
    {
      "cell_type": "code",
      "source": [
        "from sklearn.preprocessing import StandardScaler, MinMaxScaler\n",
        "\n",
        "# Create copies of the dataset for scaling\n",
        "df_scaled = df.copy()\n",
        "\n",
        "# Apply StandardScaler to numerical columns (e.g., 'Unit price' and 'Quantity')\n",
        "scaler_standard = StandardScaler()\n",
        "df_scaled['Unit price Standardized'] = scaler_standard.fit_transform(df[['Unit price']])\n",
        "df_scaled['Quantity Standardized'] = scaler_standard.fit_transform(df[['Quantity']])\n",
        "\n",
        "# Apply MinMaxScaler to 'Total' and 'gross income'\n",
        "scaler_minmax = MinMaxScaler()\n",
        "df_scaled['Total Normalized'] = scaler_minmax.fit_transform(df[['Total']])\n",
        "df_scaled['gross income Normalized'] = scaler_minmax.fit_transform(df[['gross income']])\n",
        "\n",
        "print(\"\\nDataset after Feature Scaling:\")\n",
        "print(df_scaled[['Unit price', 'Unit price Standardized', 'Quantity', 'Quantity Standardized', 'Total', 'Total Normalized', 'gross income', 'gross income Normalized']].head())\n"
      ],
      "metadata": {
        "colab": {
          "base_uri": "https://localhost:8080/"
        },
        "id": "MKJJ9JqytYBu",
        "outputId": "6f0c209e-b634-43a9-9c57-1578bf66025b"
      },
      "execution_count": null,
      "outputs": [
        {
          "output_type": "stream",
          "name": "stdout",
          "text": [
            "\n",
            "Dataset after Feature Scaling:\n",
            "   Unit price  Unit price Standardized  Quantity  Quantity Standardized  \\\n",
            "0      605.47                -0.735081         3               0.211604   \n",
            "1       97.27                -1.463764         5               1.622295   \n",
            "2     1268.79                 0.216019         2              -0.493742   \n",
            "3      542.51                -0.825357         1              -1.199088   \n",
            "4     1354.46                 0.338857         4               0.916949   \n",
            "\n",
            "     Total  Total Normalized  gross income  gross income Normalized  \n",
            "0  2143.36          0.222280        326.95                 0.222275  \n",
            "1   573.89          0.052940         87.54                 0.052936  \n",
            "2  2994.34          0.314097        456.76                 0.314092  \n",
            "3   640.16          0.060091         97.65                 0.060087  \n",
            "4  6393.05          0.680805        975.21                 0.680801  \n"
          ]
        }
      ]
    },
    {
      "cell_type": "markdown",
      "source": [
        "# **One-Hot Encoding**"
      ],
      "metadata": {
        "id": "U-WL-SX-widx"
      }
    },
    {
      "cell_type": "code",
      "source": [
        "from sklearn.preprocessing import OneHotEncoder\n",
        "\n",
        "# Apply OneHotEncoder to categorical columns\n",
        "encoder = OneHotEncoder(sparse_output=False, drop='first')  # Drop the first category to avoid the dummy variable trap\n",
        "encoded_categories = encoder.fit_transform(df[categorical_columns])\n",
        "\n",
        "# Create a DataFrame for encoded columns\n",
        "encoded_columns = encoder.get_feature_names_out(categorical_columns)\n",
        "encoded_df = pd.DataFrame(encoded_categories, columns=encoded_columns, index=df.index)\n",
        "\n",
        "print(\"\\nOne-Hot Encoded Columns:\")\n",
        "print(encoded_df.head())"
      ],
      "metadata": {
        "colab": {
          "base_uri": "https://localhost:8080/"
        },
        "id": "AgKqIA1-twBF",
        "outputId": "69b7219b-5c91-4131-abf8-bd1b8038ccea"
      },
      "execution_count": null,
      "outputs": [
        {
          "output_type": "stream",
          "name": "stdout",
          "text": [
            "\n",
            "One-Hot Encoded Columns:\n",
            "   Branch_Delhi  Branch_Mumbai  City_Chennai  City_Delhi  City_Mumbai  \\\n",
            "0           0.0            0.0           0.0         0.0          1.0   \n",
            "1           0.0            1.0           0.0         1.0          0.0   \n",
            "2           1.0            0.0           1.0         0.0          0.0   \n",
            "3           1.0            0.0           0.0         0.0          0.0   \n",
            "4           0.0            1.0           0.0         0.0          1.0   \n",
            "\n",
            "   Customer type_Regular  Gender_Male  Product line_Clothing  \\\n",
            "0                    0.0          1.0                    0.0   \n",
            "1                    0.0          0.0                    0.0   \n",
            "2                    1.0          0.0                    0.0   \n",
            "3                    1.0          1.0                    0.0   \n",
            "4                    0.0          0.0                    0.0   \n",
            "\n",
            "   Product line_Electronics  Product line_Furniture  Product line_Groceries  \\\n",
            "0                       0.0                     1.0                     0.0   \n",
            "1                       0.0                     1.0                     0.0   \n",
            "2                       0.0                     0.0                     1.0   \n",
            "3                       1.0                     0.0                     0.0   \n",
            "4                       1.0                     0.0                     0.0   \n",
            "\n",
            "   Payment_Cash  Payment_UPI  \n",
            "0           0.0          1.0  \n",
            "1           1.0          0.0  \n",
            "2           0.0          0.0  \n",
            "3           0.0          1.0  \n",
            "4           0.0          1.0  \n"
          ]
        }
      ]
    },
    {
      "cell_type": "markdown",
      "source": [
        "# **Combine Scaled and Encoded Data**"
      ],
      "metadata": {
        "id": "tz1Gz3B0wo7x"
      }
    },
    {
      "cell_type": "code",
      "source": [
        "# Combine scaled numerical and one-hot encoded categorical data\n",
        "df_processed = pd.concat([df_scaled, encoded_df], axis=1)\n",
        "\n",
        "# Display the processed dataset\n",
        "print(\"\\nProcessed Dataset with Feature Scaling and One-Hot Encoding:\")\n",
        "print(df_processed.head())\n"
      ],
      "metadata": {
        "colab": {
          "base_uri": "https://localhost:8080/"
        },
        "id": "CddoKjjlt5U7",
        "outputId": "64cf0ef5-17aa-4e8b-ea96-411f12929f00"
      },
      "execution_count": null,
      "outputs": [
        {
          "output_type": "stream",
          "name": "stdout",
          "text": [
            "\n",
            "Processed Dataset with Feature Scaling and One-Hot Encoding:\n",
            "  Invoice ID     Branch       City Customer type  Gender Product line  \\\n",
            "0   INV-8332  Bangalore     Mumbai       Premium    Male    Furniture   \n",
            "1   INV-1309     Mumbai      Delhi       Premium  Female    Furniture   \n",
            "2   INV-7661      Delhi    Chennai       Regular  Female    Groceries   \n",
            "3   INV-5227      Delhi  Bangalore       Regular    Male  Electronics   \n",
            "4   INV-2877     Mumbai     Mumbai       Premium  Female  Electronics   \n",
            "\n",
            "   Unit price  Quantity        Date   Time  ... City_Delhi  City_Mumbai  \\\n",
            "0      605.47         3  2023-09-17  14:43  ...        0.0          1.0   \n",
            "1       97.27         5  2023-12-10  13:13  ...        1.0          0.0   \n",
            "2     1268.79         2  2023-03-25  11:26  ...        0.0          0.0   \n",
            "3      542.51         1  2023-02-15  17:24  ...        0.0          0.0   \n",
            "4     1354.46         4  2023-06-08  13:03  ...        0.0          1.0   \n",
            "\n",
            "   Customer type_Regular  Gender_Male  Product line_Clothing  \\\n",
            "0                    0.0          1.0                    0.0   \n",
            "1                    0.0          0.0                    0.0   \n",
            "2                    1.0          0.0                    0.0   \n",
            "3                    1.0          1.0                    0.0   \n",
            "4                    0.0          0.0                    0.0   \n",
            "\n",
            "   Product line_Electronics  Product line_Furniture  Product line_Groceries  \\\n",
            "0                       0.0                     1.0                     0.0   \n",
            "1                       0.0                     1.0                     0.0   \n",
            "2                       0.0                     0.0                     1.0   \n",
            "3                       1.0                     0.0                     0.0   \n",
            "4                       1.0                     0.0                     0.0   \n",
            "\n",
            "   Payment_Cash  Payment_UPI  \n",
            "0           0.0          1.0  \n",
            "1           1.0          0.0  \n",
            "2           0.0          0.0  \n",
            "3           0.0          1.0  \n",
            "4           0.0          1.0  \n",
            "\n",
            "[5 rows x 31 columns]\n"
          ]
        }
      ]
    },
    {
      "cell_type": "markdown",
      "source": [
        "# **Save and Download the Processed Datase**"
      ],
      "metadata": {
        "id": "K9DrLIA5wxYB"
      }
    },
    {
      "cell_type": "code",
      "source": [
        "# Save the processed dataset\n",
        "output_file_name = \"/mnt/data/processed_invoice_data.csv\"\n",
        "df_processed.to_csv(output_file_name, index=False)\n",
        "\n",
        "# Provide download link\n",
        "from google.colab import files\n",
        "files.download(output_file_name)\n"
      ],
      "metadata": {
        "colab": {
          "base_uri": "https://localhost:8080/",
          "height": 356
        },
        "id": "hpqqM5JIt8iC",
        "outputId": "394bfc97-cd2d-4e05-8e4d-28c28f47346b"
      },
      "execution_count": null,
      "outputs": [
        {
          "output_type": "error",
          "ename": "OSError",
          "evalue": "Cannot save file into a non-existent directory: '/mnt/data'",
          "traceback": [
            "\u001b[0;31m---------------------------------------------------------------------------\u001b[0m",
            "\u001b[0;31mOSError\u001b[0m                                   Traceback (most recent call last)",
            "\u001b[0;32m<ipython-input-7-b8a2a86c9e6b>\u001b[0m in \u001b[0;36m<cell line: 3>\u001b[0;34m()\u001b[0m\n\u001b[1;32m      1\u001b[0m \u001b[0;31m# Save the processed dataset\u001b[0m\u001b[0;34m\u001b[0m\u001b[0;34m\u001b[0m\u001b[0m\n\u001b[1;32m      2\u001b[0m \u001b[0moutput_file_name\u001b[0m \u001b[0;34m=\u001b[0m \u001b[0;34m\"/mnt/data/processed_invoice_data.csv\"\u001b[0m\u001b[0;34m\u001b[0m\u001b[0;34m\u001b[0m\u001b[0m\n\u001b[0;32m----> 3\u001b[0;31m \u001b[0mdf_processed\u001b[0m\u001b[0;34m.\u001b[0m\u001b[0mto_csv\u001b[0m\u001b[0;34m(\u001b[0m\u001b[0moutput_file_name\u001b[0m\u001b[0;34m,\u001b[0m \u001b[0mindex\u001b[0m\u001b[0;34m=\u001b[0m\u001b[0;32mFalse\u001b[0m\u001b[0;34m)\u001b[0m\u001b[0;34m\u001b[0m\u001b[0;34m\u001b[0m\u001b[0m\n\u001b[0m\u001b[1;32m      4\u001b[0m \u001b[0;34m\u001b[0m\u001b[0m\n\u001b[1;32m      5\u001b[0m \u001b[0;31m# Provide download link\u001b[0m\u001b[0;34m\u001b[0m\u001b[0;34m\u001b[0m\u001b[0m\n",
            "\u001b[0;32m/usr/local/lib/python3.10/dist-packages/pandas/util/_decorators.py\u001b[0m in \u001b[0;36mwrapper\u001b[0;34m(*args, **kwargs)\u001b[0m\n\u001b[1;32m    331\u001b[0m                     \u001b[0mstacklevel\u001b[0m\u001b[0;34m=\u001b[0m\u001b[0mfind_stack_level\u001b[0m\u001b[0;34m(\u001b[0m\u001b[0;34m)\u001b[0m\u001b[0;34m,\u001b[0m\u001b[0;34m\u001b[0m\u001b[0;34m\u001b[0m\u001b[0m\n\u001b[1;32m    332\u001b[0m                 )\n\u001b[0;32m--> 333\u001b[0;31m             \u001b[0;32mreturn\u001b[0m \u001b[0mfunc\u001b[0m\u001b[0;34m(\u001b[0m\u001b[0;34m*\u001b[0m\u001b[0margs\u001b[0m\u001b[0;34m,\u001b[0m \u001b[0;34m**\u001b[0m\u001b[0mkwargs\u001b[0m\u001b[0;34m)\u001b[0m\u001b[0;34m\u001b[0m\u001b[0;34m\u001b[0m\u001b[0m\n\u001b[0m\u001b[1;32m    334\u001b[0m \u001b[0;34m\u001b[0m\u001b[0m\n\u001b[1;32m    335\u001b[0m         \u001b[0;31m# error: \"Callable[[VarArg(Any), KwArg(Any)], Any]\" has no\u001b[0m\u001b[0;34m\u001b[0m\u001b[0;34m\u001b[0m\u001b[0m\n",
            "\u001b[0;32m/usr/local/lib/python3.10/dist-packages/pandas/core/generic.py\u001b[0m in \u001b[0;36mto_csv\u001b[0;34m(self, path_or_buf, sep, na_rep, float_format, columns, header, index, index_label, mode, encoding, compression, quoting, quotechar, lineterminator, chunksize, date_format, doublequote, escapechar, decimal, errors, storage_options)\u001b[0m\n\u001b[1;32m   3965\u001b[0m         )\n\u001b[1;32m   3966\u001b[0m \u001b[0;34m\u001b[0m\u001b[0m\n\u001b[0;32m-> 3967\u001b[0;31m         return DataFrameRenderer(formatter).to_csv(\n\u001b[0m\u001b[1;32m   3968\u001b[0m             \u001b[0mpath_or_buf\u001b[0m\u001b[0;34m,\u001b[0m\u001b[0;34m\u001b[0m\u001b[0;34m\u001b[0m\u001b[0m\n\u001b[1;32m   3969\u001b[0m             \u001b[0mlineterminator\u001b[0m\u001b[0;34m=\u001b[0m\u001b[0mlineterminator\u001b[0m\u001b[0;34m,\u001b[0m\u001b[0;34m\u001b[0m\u001b[0;34m\u001b[0m\u001b[0m\n",
            "\u001b[0;32m/usr/local/lib/python3.10/dist-packages/pandas/io/formats/format.py\u001b[0m in \u001b[0;36mto_csv\u001b[0;34m(self, path_or_buf, encoding, sep, columns, index_label, mode, compression, quoting, quotechar, lineterminator, chunksize, date_format, doublequote, escapechar, errors, storage_options)\u001b[0m\n\u001b[1;32m   1012\u001b[0m             \u001b[0mformatter\u001b[0m\u001b[0;34m=\u001b[0m\u001b[0mself\u001b[0m\u001b[0;34m.\u001b[0m\u001b[0mfmt\u001b[0m\u001b[0;34m,\u001b[0m\u001b[0;34m\u001b[0m\u001b[0;34m\u001b[0m\u001b[0m\n\u001b[1;32m   1013\u001b[0m         )\n\u001b[0;32m-> 1014\u001b[0;31m         \u001b[0mcsv_formatter\u001b[0m\u001b[0;34m.\u001b[0m\u001b[0msave\u001b[0m\u001b[0;34m(\u001b[0m\u001b[0;34m)\u001b[0m\u001b[0;34m\u001b[0m\u001b[0;34m\u001b[0m\u001b[0m\n\u001b[0m\u001b[1;32m   1015\u001b[0m \u001b[0;34m\u001b[0m\u001b[0m\n\u001b[1;32m   1016\u001b[0m         \u001b[0;32mif\u001b[0m \u001b[0mcreated_buffer\u001b[0m\u001b[0;34m:\u001b[0m\u001b[0;34m\u001b[0m\u001b[0;34m\u001b[0m\u001b[0m\n",
            "\u001b[0;32m/usr/local/lib/python3.10/dist-packages/pandas/io/formats/csvs.py\u001b[0m in \u001b[0;36msave\u001b[0;34m(self)\u001b[0m\n\u001b[1;32m    249\u001b[0m         \"\"\"\n\u001b[1;32m    250\u001b[0m         \u001b[0;31m# apply compression and byte/text conversion\u001b[0m\u001b[0;34m\u001b[0m\u001b[0;34m\u001b[0m\u001b[0m\n\u001b[0;32m--> 251\u001b[0;31m         with get_handle(\n\u001b[0m\u001b[1;32m    252\u001b[0m             \u001b[0mself\u001b[0m\u001b[0;34m.\u001b[0m\u001b[0mfilepath_or_buffer\u001b[0m\u001b[0;34m,\u001b[0m\u001b[0;34m\u001b[0m\u001b[0;34m\u001b[0m\u001b[0m\n\u001b[1;32m    253\u001b[0m             \u001b[0mself\u001b[0m\u001b[0;34m.\u001b[0m\u001b[0mmode\u001b[0m\u001b[0;34m,\u001b[0m\u001b[0;34m\u001b[0m\u001b[0;34m\u001b[0m\u001b[0m\n",
            "\u001b[0;32m/usr/local/lib/python3.10/dist-packages/pandas/io/common.py\u001b[0m in \u001b[0;36mget_handle\u001b[0;34m(path_or_buf, mode, encoding, compression, memory_map, is_text, errors, storage_options)\u001b[0m\n\u001b[1;32m    747\u001b[0m     \u001b[0;31m# Only for write methods\u001b[0m\u001b[0;34m\u001b[0m\u001b[0;34m\u001b[0m\u001b[0m\n\u001b[1;32m    748\u001b[0m     \u001b[0;32mif\u001b[0m \u001b[0;34m\"r\"\u001b[0m \u001b[0;32mnot\u001b[0m \u001b[0;32min\u001b[0m \u001b[0mmode\u001b[0m \u001b[0;32mand\u001b[0m \u001b[0mis_path\u001b[0m\u001b[0;34m:\u001b[0m\u001b[0;34m\u001b[0m\u001b[0;34m\u001b[0m\u001b[0m\n\u001b[0;32m--> 749\u001b[0;31m         \u001b[0mcheck_parent_directory\u001b[0m\u001b[0;34m(\u001b[0m\u001b[0mstr\u001b[0m\u001b[0;34m(\u001b[0m\u001b[0mhandle\u001b[0m\u001b[0;34m)\u001b[0m\u001b[0;34m)\u001b[0m\u001b[0;34m\u001b[0m\u001b[0;34m\u001b[0m\u001b[0m\n\u001b[0m\u001b[1;32m    750\u001b[0m \u001b[0;34m\u001b[0m\u001b[0m\n\u001b[1;32m    751\u001b[0m     \u001b[0;32mif\u001b[0m \u001b[0mcompression\u001b[0m\u001b[0;34m:\u001b[0m\u001b[0;34m\u001b[0m\u001b[0;34m\u001b[0m\u001b[0m\n",
            "\u001b[0;32m/usr/local/lib/python3.10/dist-packages/pandas/io/common.py\u001b[0m in \u001b[0;36mcheck_parent_directory\u001b[0;34m(path)\u001b[0m\n\u001b[1;32m    614\u001b[0m     \u001b[0mparent\u001b[0m \u001b[0;34m=\u001b[0m \u001b[0mPath\u001b[0m\u001b[0;34m(\u001b[0m\u001b[0mpath\u001b[0m\u001b[0;34m)\u001b[0m\u001b[0;34m.\u001b[0m\u001b[0mparent\u001b[0m\u001b[0;34m\u001b[0m\u001b[0;34m\u001b[0m\u001b[0m\n\u001b[1;32m    615\u001b[0m     \u001b[0;32mif\u001b[0m \u001b[0;32mnot\u001b[0m \u001b[0mparent\u001b[0m\u001b[0;34m.\u001b[0m\u001b[0mis_dir\u001b[0m\u001b[0;34m(\u001b[0m\u001b[0;34m)\u001b[0m\u001b[0;34m:\u001b[0m\u001b[0;34m\u001b[0m\u001b[0;34m\u001b[0m\u001b[0m\n\u001b[0;32m--> 616\u001b[0;31m         \u001b[0;32mraise\u001b[0m \u001b[0mOSError\u001b[0m\u001b[0;34m(\u001b[0m\u001b[0;34mrf\"Cannot save file into a non-existent directory: '{parent}'\"\u001b[0m\u001b[0;34m)\u001b[0m\u001b[0;34m\u001b[0m\u001b[0;34m\u001b[0m\u001b[0m\n\u001b[0m\u001b[1;32m    617\u001b[0m \u001b[0;34m\u001b[0m\u001b[0m\n\u001b[1;32m    618\u001b[0m \u001b[0;34m\u001b[0m\u001b[0m\n",
            "\u001b[0;31mOSError\u001b[0m: Cannot save file into a non-existent directory: '/mnt/data'"
          ]
        }
      ]
    },
    {
      "cell_type": "code",
      "source": [
        "import os\n",
        "\n",
        "# Save the processed dataset\n",
        "output_file_name = \"/mnt/data/processed_invoice_data.csv\"\n",
        "\n",
        "# Create the directory if it doesn't exist\n",
        "os.makedirs(os.path.dirname(output_file_name), exist_ok=True)\n",
        "\n",
        "df_processed.to_csv(output_file_name, index=False)\n",
        "\n",
        "# Provide download link\n",
        "from google.colab import files\n",
        "files.download(output_file_name)"
      ],
      "metadata": {
        "id": "y_vx0j8ZbDVP",
        "outputId": "3ec21ba0-04e3-428e-e7ed-efea871b2b1a",
        "colab": {
          "base_uri": "https://localhost:8080/",
          "height": 17
        }
      },
      "execution_count": null,
      "outputs": [
        {
          "output_type": "display_data",
          "data": {
            "text/plain": [
              "<IPython.core.display.Javascript object>"
            ],
            "application/javascript": [
              "\n",
              "    async function download(id, filename, size) {\n",
              "      if (!google.colab.kernel.accessAllowed) {\n",
              "        return;\n",
              "      }\n",
              "      const div = document.createElement('div');\n",
              "      const label = document.createElement('label');\n",
              "      label.textContent = `Downloading \"${filename}\": `;\n",
              "      div.appendChild(label);\n",
              "      const progress = document.createElement('progress');\n",
              "      progress.max = size;\n",
              "      div.appendChild(progress);\n",
              "      document.body.appendChild(div);\n",
              "\n",
              "      const buffers = [];\n",
              "      let downloaded = 0;\n",
              "\n",
              "      const channel = await google.colab.kernel.comms.open(id);\n",
              "      // Send a message to notify the kernel that we're ready.\n",
              "      channel.send({})\n",
              "\n",
              "      for await (const message of channel.messages) {\n",
              "        // Send a message to notify the kernel that we're ready.\n",
              "        channel.send({})\n",
              "        if (message.buffers) {\n",
              "          for (const buffer of message.buffers) {\n",
              "            buffers.push(buffer);\n",
              "            downloaded += buffer.byteLength;\n",
              "            progress.value = downloaded;\n",
              "          }\n",
              "        }\n",
              "      }\n",
              "      const blob = new Blob(buffers, {type: 'application/binary'});\n",
              "      const a = document.createElement('a');\n",
              "      a.href = window.URL.createObjectURL(blob);\n",
              "      a.download = filename;\n",
              "      div.appendChild(a);\n",
              "      a.click();\n",
              "      div.remove();\n",
              "    }\n",
              "  "
            ]
          },
          "metadata": {}
        },
        {
          "output_type": "display_data",
          "data": {
            "text/plain": [
              "<IPython.core.display.Javascript object>"
            ],
            "application/javascript": [
              "download(\"download_949e9268-ec50-4ba4-87b2-6f1339e04434\", \"processed_invoice_data.csv\", 2665)"
            ]
          },
          "metadata": {}
        }
      ]
    }
  ]
}