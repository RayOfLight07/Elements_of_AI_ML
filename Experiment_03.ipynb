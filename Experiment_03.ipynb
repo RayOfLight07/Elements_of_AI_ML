{
  "nbformat": 4,
  "nbformat_minor": 0,
  "metadata": {
    "colab": {
      "provenance": [],
      "authorship_tag": "ABX9TyNfGK0nmElAEjpSGkAqKzbs",
      "include_colab_link": true
    },
    "kernelspec": {
      "name": "python3",
      "display_name": "Python 3"
    },
    "language_info": {
      "name": "python"
    }
  },
  "cells": [
    {
      "cell_type": "markdown",
      "metadata": {
        "id": "view-in-github",
        "colab_type": "text"
      },
      "source": [
        "<a href=\"https://colab.research.google.com/github/RayOfLight07/Elements_of_AI_ML/blob/main/Experiment_03.ipynb\" target=\"_parent\"><img src=\"https://colab.research.google.com/assets/colab-badge.svg\" alt=\"Open In Colab\"/></a>"
      ]
    },
    {
      "cell_type": "markdown",
      "source": [
        "# Objective:\n",
        "Implement any clustering techniques using Scikit-learn on cleaned data from a previous\n",
        "lab. Analyze the performance of the clustering algorithm and discuss the results."
      ],
      "metadata": {
        "id": "r0dDlJLPQjyT"
      }
    },
    {
      "cell_type": "markdown",
      "source": [
        "# **Importing the dataset**"
      ],
      "metadata": {
        "id": "sfTKlnVqQ9lS"
      }
    },
    {
      "cell_type": "code",
      "execution_count": 1,
      "metadata": {
        "id": "KCAiD5YHOQm6",
        "colab": {
          "base_uri": "https://localhost:8080/",
          "height": 71
        },
        "outputId": "38fb3c03-8d9c-447b-d663-db4ce275fbe4"
      },
      "outputs": [
        {
          "output_type": "display_data",
          "data": {
            "text/plain": [
              "<IPython.core.display.HTML object>"
            ],
            "text/html": [
              "\n",
              "     <input type=\"file\" id=\"files-447ff7f0-383a-4e4d-a78c-73bdf9a1add9\" name=\"files[]\" multiple disabled\n",
              "        style=\"border:none\" />\n",
              "     <output id=\"result-447ff7f0-383a-4e4d-a78c-73bdf9a1add9\">\n",
              "      Upload widget is only available when the cell has been executed in the\n",
              "      current browser session. Please rerun this cell to enable.\n",
              "      </output>\n",
              "      <script>// Copyright 2017 Google LLC\n",
              "//\n",
              "// Licensed under the Apache License, Version 2.0 (the \"License\");\n",
              "// you may not use this file except in compliance with the License.\n",
              "// You may obtain a copy of the License at\n",
              "//\n",
              "//      http://www.apache.org/licenses/LICENSE-2.0\n",
              "//\n",
              "// Unless required by applicable law or agreed to in writing, software\n",
              "// distributed under the License is distributed on an \"AS IS\" BASIS,\n",
              "// WITHOUT WARRANTIES OR CONDITIONS OF ANY KIND, either express or implied.\n",
              "// See the License for the specific language governing permissions and\n",
              "// limitations under the License.\n",
              "\n",
              "/**\n",
              " * @fileoverview Helpers for google.colab Python module.\n",
              " */\n",
              "(function(scope) {\n",
              "function span(text, styleAttributes = {}) {\n",
              "  const element = document.createElement('span');\n",
              "  element.textContent = text;\n",
              "  for (const key of Object.keys(styleAttributes)) {\n",
              "    element.style[key] = styleAttributes[key];\n",
              "  }\n",
              "  return element;\n",
              "}\n",
              "\n",
              "// Max number of bytes which will be uploaded at a time.\n",
              "const MAX_PAYLOAD_SIZE = 100 * 1024;\n",
              "\n",
              "function _uploadFiles(inputId, outputId) {\n",
              "  const steps = uploadFilesStep(inputId, outputId);\n",
              "  const outputElement = document.getElementById(outputId);\n",
              "  // Cache steps on the outputElement to make it available for the next call\n",
              "  // to uploadFilesContinue from Python.\n",
              "  outputElement.steps = steps;\n",
              "\n",
              "  return _uploadFilesContinue(outputId);\n",
              "}\n",
              "\n",
              "// This is roughly an async generator (not supported in the browser yet),\n",
              "// where there are multiple asynchronous steps and the Python side is going\n",
              "// to poll for completion of each step.\n",
              "// This uses a Promise to block the python side on completion of each step,\n",
              "// then passes the result of the previous step as the input to the next step.\n",
              "function _uploadFilesContinue(outputId) {\n",
              "  const outputElement = document.getElementById(outputId);\n",
              "  const steps = outputElement.steps;\n",
              "\n",
              "  const next = steps.next(outputElement.lastPromiseValue);\n",
              "  return Promise.resolve(next.value.promise).then((value) => {\n",
              "    // Cache the last promise value to make it available to the next\n",
              "    // step of the generator.\n",
              "    outputElement.lastPromiseValue = value;\n",
              "    return next.value.response;\n",
              "  });\n",
              "}\n",
              "\n",
              "/**\n",
              " * Generator function which is called between each async step of the upload\n",
              " * process.\n",
              " * @param {string} inputId Element ID of the input file picker element.\n",
              " * @param {string} outputId Element ID of the output display.\n",
              " * @return {!Iterable<!Object>} Iterable of next steps.\n",
              " */\n",
              "function* uploadFilesStep(inputId, outputId) {\n",
              "  const inputElement = document.getElementById(inputId);\n",
              "  inputElement.disabled = false;\n",
              "\n",
              "  const outputElement = document.getElementById(outputId);\n",
              "  outputElement.innerHTML = '';\n",
              "\n",
              "  const pickedPromise = new Promise((resolve) => {\n",
              "    inputElement.addEventListener('change', (e) => {\n",
              "      resolve(e.target.files);\n",
              "    });\n",
              "  });\n",
              "\n",
              "  const cancel = document.createElement('button');\n",
              "  inputElement.parentElement.appendChild(cancel);\n",
              "  cancel.textContent = 'Cancel upload';\n",
              "  const cancelPromise = new Promise((resolve) => {\n",
              "    cancel.onclick = () => {\n",
              "      resolve(null);\n",
              "    };\n",
              "  });\n",
              "\n",
              "  // Wait for the user to pick the files.\n",
              "  const files = yield {\n",
              "    promise: Promise.race([pickedPromise, cancelPromise]),\n",
              "    response: {\n",
              "      action: 'starting',\n",
              "    }\n",
              "  };\n",
              "\n",
              "  cancel.remove();\n",
              "\n",
              "  // Disable the input element since further picks are not allowed.\n",
              "  inputElement.disabled = true;\n",
              "\n",
              "  if (!files) {\n",
              "    return {\n",
              "      response: {\n",
              "        action: 'complete',\n",
              "      }\n",
              "    };\n",
              "  }\n",
              "\n",
              "  for (const file of files) {\n",
              "    const li = document.createElement('li');\n",
              "    li.append(span(file.name, {fontWeight: 'bold'}));\n",
              "    li.append(span(\n",
              "        `(${file.type || 'n/a'}) - ${file.size} bytes, ` +\n",
              "        `last modified: ${\n",
              "            file.lastModifiedDate ? file.lastModifiedDate.toLocaleDateString() :\n",
              "                                    'n/a'} - `));\n",
              "    const percent = span('0% done');\n",
              "    li.appendChild(percent);\n",
              "\n",
              "    outputElement.appendChild(li);\n",
              "\n",
              "    const fileDataPromise = new Promise((resolve) => {\n",
              "      const reader = new FileReader();\n",
              "      reader.onload = (e) => {\n",
              "        resolve(e.target.result);\n",
              "      };\n",
              "      reader.readAsArrayBuffer(file);\n",
              "    });\n",
              "    // Wait for the data to be ready.\n",
              "    let fileData = yield {\n",
              "      promise: fileDataPromise,\n",
              "      response: {\n",
              "        action: 'continue',\n",
              "      }\n",
              "    };\n",
              "\n",
              "    // Use a chunked sending to avoid message size limits. See b/62115660.\n",
              "    let position = 0;\n",
              "    do {\n",
              "      const length = Math.min(fileData.byteLength - position, MAX_PAYLOAD_SIZE);\n",
              "      const chunk = new Uint8Array(fileData, position, length);\n",
              "      position += length;\n",
              "\n",
              "      const base64 = btoa(String.fromCharCode.apply(null, chunk));\n",
              "      yield {\n",
              "        response: {\n",
              "          action: 'append',\n",
              "          file: file.name,\n",
              "          data: base64,\n",
              "        },\n",
              "      };\n",
              "\n",
              "      let percentDone = fileData.byteLength === 0 ?\n",
              "          100 :\n",
              "          Math.round((position / fileData.byteLength) * 100);\n",
              "      percent.textContent = `${percentDone}% done`;\n",
              "\n",
              "    } while (position < fileData.byteLength);\n",
              "  }\n",
              "\n",
              "  // All done.\n",
              "  yield {\n",
              "    response: {\n",
              "      action: 'complete',\n",
              "    }\n",
              "  };\n",
              "}\n",
              "\n",
              "scope.google = scope.google || {};\n",
              "scope.google.colab = scope.google.colab || {};\n",
              "scope.google.colab._files = {\n",
              "  _uploadFiles,\n",
              "  _uploadFilesContinue,\n",
              "};\n",
              "})(self);\n",
              "</script> "
            ]
          },
          "metadata": {}
        },
        {
          "output_type": "stream",
          "name": "stdout",
          "text": [
            "Saving clustering_dataset.csv to clustering_dataset.csv\n"
          ]
        }
      ],
      "source": [
        "from google.colab import files\n",
        "ss= files.upload()"
      ]
    },
    {
      "cell_type": "markdown",
      "source": [
        "# **Step 1: Load the Dataset**"
      ],
      "metadata": {
        "id": "SZCbs0bkRDSB"
      }
    },
    {
      "cell_type": "code",
      "source": [
        "import pandas as pd\n",
        "\n",
        "# Load the cleaned dataset\n",
        "file_path = 'clustering_dataset.csv'\n",
        "data = pd.read_csv(file_path)\n",
        "\n",
        "# Display the first few rows of the dataset\n",
        "print(data.head())\n"
      ],
      "metadata": {
        "colab": {
          "base_uri": "https://localhost:8080/"
        },
        "id": "WKjwn6kAQE7b",
        "outputId": "ccd6a447-4fe1-424a-b994-31f0c966561d"
      },
      "execution_count": 3,
      "outputs": [
        {
          "output_type": "stream",
          "name": "stdout",
          "text": [
            "   Feature_1  Feature_2\n",
            "0   5.745071   4.792604\n",
            "1   5.971533   7.284545\n",
            "2   4.648770   4.648795\n",
            "3   7.368819   6.151152\n",
            "4   4.295788   5.813840\n"
          ]
        }
      ]
    },
    {
      "cell_type": "markdown",
      "source": [
        "# **Step 2: Data Preprocessing**"
      ],
      "metadata": {
        "id": "1w-c1YuqRP8g"
      }
    },
    {
      "cell_type": "code",
      "source": [
        "from sklearn.preprocessing import StandardScaler\n",
        "\n",
        "# Extract the numerical features for clustering\n",
        "features = data.select_dtypes(include=['float64', 'int64'])\n",
        "\n",
        "# Standard Scaling\n",
        "scaler = StandardScaler()\n",
        "scaled_features = scaler.fit_transform(features)\n"
      ],
      "metadata": {
        "id": "mu6jO5eUQbbT"
      },
      "execution_count": 4,
      "outputs": []
    },
    {
      "cell_type": "markdown",
      "source": [
        "# **Step 3: Perform Clustering**"
      ],
      "metadata": {
        "id": "FpVAZQHURWlp"
      }
    },
    {
      "cell_type": "code",
      "source": [
        "from sklearn.cluster import KMeans\n",
        "import matplotlib.pyplot as plt\n",
        "\n",
        "# Initialize K-Means\n",
        "kmeans = KMeans(n_clusters=3, random_state=42)\n",
        "\n",
        "# Fit and predict cluster labels\n",
        "clusters = kmeans.fit_predict(scaled_features)\n",
        "\n",
        "# Add cluster labels to the original dataset\n",
        "data['Cluster'] = clusters\n",
        "\n",
        "# Visualize the clusters (assuming 2 features for simplicity)\n",
        "plt.scatter(scaled_features[:, 0], scaled_features[:, 1], c=clusters, cmap='viridis')\n",
        "plt.title('K-Means Clustering')\n",
        "plt.xlabel('Feature 1')\n",
        "plt.ylabel('Feature 2')\n",
        "plt.show()\n"
      ],
      "metadata": {
        "colab": {
          "base_uri": "https://localhost:8080/",
          "height": 472
        },
        "id": "i4gHZOecRWAD",
        "outputId": "1424a9d1-14f1-455b-e386-27008c1a713a"
      },
      "execution_count": 5,
      "outputs": [
        {
          "output_type": "display_data",
          "data": {
            "text/plain": [
              "<Figure size 640x480 with 1 Axes>"
            ],
            "image/png": "[encoded data removed]"
          },
          "metadata": {}
        }
      ]
    },
    {
      "cell_type": "markdown",
      "source": [
        "# **Step 4: Evaluate Performance**"
      ],
      "metadata": {
        "id": "HDCky5YLRm8a"
      }
    },
    {
      "cell_type": "code",
      "source": [
        "from sklearn.metrics import silhouette_score, davies_bouldin_score\n",
        "\n",
        "# Silhouette Score\n",
        "silhouette = silhouette_score(scaled_features, clusters)\n",
        "print(f'Silhouette Score (K-Means): {silhouette}')\n",
        "\n",
        "# Davies-Bouldin Index\n",
        "davies_bouldin = davies_bouldin_score(scaled_features, clusters)\n",
        "print(f'Davies-Bouldin Index (K-Means): {davies_bouldin}')\n"
      ],
      "metadata": {
        "colab": {
          "base_uri": "https://localhost:8080/"
        },
        "id": "3CYeMtJPRmac",
        "outputId": "62f95658-6272-44e3-b67b-f3f6dec67fcb"
      },
      "execution_count": 6,
      "outputs": [
        {
          "output_type": "stream",
          "name": "stdout",
          "text": [
            "Silhouette Score (K-Means): 0.6886950012754051\n",
            "Davies-Bouldin Index (K-Means): 0.4054637225440707\n"
          ]
        }
      ]
    },
    {
      "cell_type": "markdown",
      "source": [
        "# **Step 5: Compare Algorithm**"
      ],
      "metadata": {
        "id": "ZsZSumn5Tl9J"
      }
    },
    {
      "cell_type": "code",
      "source": [
        "import numpy as np\n",
        "\n",
        "# Check unique cluster labels\n",
        "print(\"Unique cluster labels:\", np.unique(dbscan_clusters))\n",
        "\n",
        "# Count points per cluster\n",
        "unique, counts = np.unique(dbscan_clusters, return_counts=True)\n",
        "print(\"Cluster label counts:\", dict(zip(unique, counts)))\n"
      ],
      "metadata": {
        "colab": {
          "base_uri": "https://localhost:8080/"
        },
        "id": "3W7ZjUdoS5H5",
        "outputId": "ea1783b2-c87b-4601-c82f-60a560e944b8"
      },
      "execution_count": 11,
      "outputs": [
        {
          "output_type": "stream",
          "name": "stdout",
          "text": [
            "Unique cluster labels: [0]\n",
            "Cluster label counts: {0: 300}\n"
          ]
        }
      ]
    },
    {
      "cell_type": "code",
      "source": [
        "from sklearn.cluster import DBSCAN\n",
        "\n",
        "# Adjust DBSCAN parameters\n",
        "dbscan = DBSCAN(eps=0.8, min_samples=5)\n",
        "dbscan_clusters = dbscan.fit_predict(scaled_features)\n",
        "\n",
        "# Check cluster labels again\n",
        "print(\"Unique cluster labels after adjustment:\", np.unique(dbscan_clusters))\n"
      ],
      "metadata": {
        "colab": {
          "base_uri": "https://localhost:8080/"
        },
        "id": "TxrXdcNLS5Aa",
        "outputId": "786cc5fc-9251-4538-ddf1-c36d3de22038"
      },
      "execution_count": 12,
      "outputs": [
        {
          "output_type": "stream",
          "name": "stdout",
          "text": [
            "Unique cluster labels after adjustment: [0]\n"
          ]
        }
      ]
    },
    {
      "cell_type": "code",
      "source": [
        "# Exclude noise points for silhouette score\n",
        "valid_indices = dbscan_clusters != -1\n",
        "if len(np.unique(dbscan_clusters[valid_indices])) > 1:\n",
        "    silhouette_dbscan = silhouette_score(scaled_features[valid_indices], dbscan_clusters[valid_indices])\n",
        "    print(f'Silhouette Score (DBSCAN): {silhouette_dbscan}')\n",
        "else:\n",
        "    print(\"Cannot calculate Silhouette Score: Less than 2 clusters found.\")\n"
      ],
      "metadata": {
        "colab": {
          "base_uri": "https://localhost:8080/"
        },
        "id": "QXA7dBchS41x",
        "outputId": "7c0b31b8-09c4-4f4b-e3a9-4ce3069b8fe6"
      },
      "execution_count": 13,
      "outputs": [
        {
          "output_type": "stream",
          "name": "stdout",
          "text": [
            "Cannot calculate Silhouette Score: Less than 2 clusters found.\n"
          ]
        }
      ]
    },
    {
      "cell_type": "markdown",
      "source": [],
      "metadata": {
        "id": "3RA4ow7_SZaI"
      }
    },
    {
      "cell_type": "code",
      "source": [
        "from sklearn.model_selection import train_test_split\n",
        "\n",
        "X_train, X_test = train_test_split(scaled_features, test_size=0.2, random_state=42)\n",
        "\n",
        "# Perform clustering on training data\n",
        "kmeans.fit(X_train)\n",
        "train_clusters = kmeans.predict(X_train)\n",
        "test_clusters = kmeans.predict(X_test)\n",
        "\n",
        "# Evaluate on train/test subsets\n",
        "train_silhouette = silhouette_score(X_train, train_clusters)\n",
        "test_silhouette = silhouette_score(X_test, test_clusters)\n",
        "\n",
        "print(f'Training Silhouette Score: {train_silhouette}')\n",
        "print(f'Testing Silhouette Score: {test_silhouette}')\n"
      ],
      "metadata": {
        "colab": {
          "base_uri": "https://localhost:8080/"
        },
        "id": "PjKHY8LwSUdZ",
        "outputId": "f222a784-ba7c-4e53-b493-b3cbbe893109"
      },
      "execution_count": 15,
      "outputs": [
        {
          "output_type": "stream",
          "name": "stdout",
          "text": [
            "Training Silhouette Score: 0.687034100011104\n",
            "Testing Silhouette Score: 0.6909939618495374\n"
          ]
        }
      ]
    }
  ]
}