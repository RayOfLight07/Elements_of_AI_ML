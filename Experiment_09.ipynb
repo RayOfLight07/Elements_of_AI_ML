{
  "nbformat": 4,
  "nbformat_minor": 0,
  "metadata": {
    "colab": {
      "provenance": [],
      "authorship_tag": "ABX9TyMYCB2uTt2zlbZMMML3RUcA",
      "include_colab_link": true
    },
    "kernelspec": {
      "name": "python3",
      "display_name": "Python 3"
    },
    "language_info": {
      "name": "python"
    }
  },
  "cells": [
    {
      "cell_type": "markdown",
      "metadata": {
        "id": "view-in-github",
        "colab_type": "text"
      },
      "source": [
        "<a href=\"https://colab.research.google.com/github/RayOfLight07/Elements_of_AI_ML/blob/main/Experiment_09.ipynb\" target=\"_parent\"><img src=\"https://colab.research.google.com/assets/colab-badge.svg\" alt=\"Open In Colab\"/></a>"
      ]
    },
    {
      "cell_type": "markdown",
      "source": [],
      "metadata": {
        "id": "8sLabSK9YQMo"
      }
    },
    {
      "cell_type": "markdown",
      "source": [
        "Given an imbalanced dataset, apply different techniques to balance the data. Evaluate the effects\n",
        "of these techniques by training a basic classifier and comparing model performance on the\n",
        "original vs. balanced datasets.\n",
        "# **Importing the Dataset**"
      ],
      "metadata": {
        "id": "IDpxyWGwVl2x"
      }
    },
    {
      "cell_type": "code",
      "source": [
        "from google.colab import files\n",
        "ss= files.upload()"
      ],
      "metadata": {
        "colab": {
          "base_uri": "https://localhost:8080/",
          "height": 73
        },
        "id": "UeQEIR3_WrsI",
        "outputId": "261e0661-3e19-4327-e40d-23aadac8b103"
      },
      "execution_count": 2,
      "outputs": [
        {
          "output_type": "display_data",
          "data": {
            "text/plain": [
              "<IPython.core.display.HTML object>"
            ],
            "text/html": [
              "\n",
              "     <input type=\"file\" id=\"files-3eacc954-ae65-4794-a549-3ae8b3a9846f\" name=\"files[]\" multiple disabled\n",
              "        style=\"border:none\" />\n",
              "     <output id=\"result-3eacc954-ae65-4794-a549-3ae8b3a9846f\">\n",
              "      Upload widget is only available when the cell has been executed in the\n",
              "      current browser session. Please rerun this cell to enable.\n",
              "      </output>\n",
              "      <script>// Copyright 2017 Google LLC\n",
              "//\n",
              "// Licensed under the Apache License, Version 2.0 (the \"License\");\n",
              "// you may not use this file except in compliance with the License.\n",
              "// You may obtain a copy of the License at\n",
              "//\n",
              "//      http://www.apache.org/licenses/LICENSE-2.0\n",
              "//\n",
              "// Unless required by applicable law or agreed to in writing, software\n",
              "// distributed under the License is distributed on an \"AS IS\" BASIS,\n",
              "// WITHOUT WARRANTIES OR CONDITIONS OF ANY KIND, either express or implied.\n",
              "// See the License for the specific language governing permissions and\n",
              "// limitations under the License.\n",
              "\n",
              "/**\n",
              " * @fileoverview Helpers for google.colab Python module.\n",
              " */\n",
              "(function(scope) {\n",
              "function span(text, styleAttributes = {}) {\n",
              "  const element = document.createElement('span');\n",
              "  element.textContent = text;\n",
              "  for (const key of Object.keys(styleAttributes)) {\n",
              "    element.style[key] = styleAttributes[key];\n",
              "  }\n",
              "  return element;\n",
              "}\n",
              "\n",
              "// Max number of bytes which will be uploaded at a time.\n",
              "const MAX_PAYLOAD_SIZE = 100 * 1024;\n",
              "\n",
              "function _uploadFiles(inputId, outputId) {\n",
              "  const steps = uploadFilesStep(inputId, outputId);\n",
              "  const outputElement = document.getElementById(outputId);\n",
              "  // Cache steps on the outputElement to make it available for the next call\n",
              "  // to uploadFilesContinue from Python.\n",
              "  outputElement.steps = steps;\n",
              "\n",
              "  return _uploadFilesContinue(outputId);\n",
              "}\n",
              "\n",
              "// This is roughly an async generator (not supported in the browser yet),\n",
              "// where there are multiple asynchronous steps and the Python side is going\n",
              "// to poll for completion of each step.\n",
              "// This uses a Promise to block the python side on completion of each step,\n",
              "// then passes the result of the previous step as the input to the next step.\n",
              "function _uploadFilesContinue(outputId) {\n",
              "  const outputElement = document.getElementById(outputId);\n",
              "  const steps = outputElement.steps;\n",
              "\n",
              "  const next = steps.next(outputElement.lastPromiseValue);\n",
              "  return Promise.resolve(next.value.promise).then((value) => {\n",
              "    // Cache the last promise value to make it available to the next\n",
              "    // step of the generator.\n",
              "    outputElement.lastPromiseValue = value;\n",
              "    return next.value.response;\n",
              "  });\n",
              "}\n",
              "\n",
              "/**\n",
              " * Generator function which is called between each async step of the upload\n",
              " * process.\n",
              " * @param {string} inputId Element ID of the input file picker element.\n",
              " * @param {string} outputId Element ID of the output display.\n",
              " * @return {!Iterable<!Object>} Iterable of next steps.\n",
              " */\n",
              "function* uploadFilesStep(inputId, outputId) {\n",
              "  const inputElement = document.getElementById(inputId);\n",
              "  inputElement.disabled = false;\n",
              "\n",
              "  const outputElement = document.getElementById(outputId);\n",
              "  outputElement.innerHTML = '';\n",
              "\n",
              "  const pickedPromise = new Promise((resolve) => {\n",
              "    inputElement.addEventListener('change', (e) => {\n",
              "      resolve(e.target.files);\n",
              "    });\n",
              "  });\n",
              "\n",
              "  const cancel = document.createElement('button');\n",
              "  inputElement.parentElement.appendChild(cancel);\n",
              "  cancel.textContent = 'Cancel upload';\n",
              "  const cancelPromise = new Promise((resolve) => {\n",
              "    cancel.onclick = () => {\n",
              "      resolve(null);\n",
              "    };\n",
              "  });\n",
              "\n",
              "  // Wait for the user to pick the files.\n",
              "  const files = yield {\n",
              "    promise: Promise.race([pickedPromise, cancelPromise]),\n",
              "    response: {\n",
              "      action: 'starting',\n",
              "    }\n",
              "  };\n",
              "\n",
              "  cancel.remove();\n",
              "\n",
              "  // Disable the input element since further picks are not allowed.\n",
              "  inputElement.disabled = true;\n",
              "\n",
              "  if (!files) {\n",
              "    return {\n",
              "      response: {\n",
              "        action: 'complete',\n",
              "      }\n",
              "    };\n",
              "  }\n",
              "\n",
              "  for (const file of files) {\n",
              "    const li = document.createElement('li');\n",
              "    li.append(span(file.name, {fontWeight: 'bold'}));\n",
              "    li.append(span(\n",
              "        `(${file.type || 'n/a'}) - ${file.size} bytes, ` +\n",
              "        `last modified: ${\n",
              "            file.lastModifiedDate ? file.lastModifiedDate.toLocaleDateString() :\n",
              "                                    'n/a'} - `));\n",
              "    const percent = span('0% done');\n",
              "    li.appendChild(percent);\n",
              "\n",
              "    outputElement.appendChild(li);\n",
              "\n",
              "    const fileDataPromise = new Promise((resolve) => {\n",
              "      const reader = new FileReader();\n",
              "      reader.onload = (e) => {\n",
              "        resolve(e.target.result);\n",
              "      };\n",
              "      reader.readAsArrayBuffer(file);\n",
              "    });\n",
              "    // Wait for the data to be ready.\n",
              "    let fileData = yield {\n",
              "      promise: fileDataPromise,\n",
              "      response: {\n",
              "        action: 'continue',\n",
              "      }\n",
              "    };\n",
              "\n",
              "    // Use a chunked sending to avoid message size limits. See b/62115660.\n",
              "    let position = 0;\n",
              "    do {\n",
              "      const length = Math.min(fileData.byteLength - position, MAX_PAYLOAD_SIZE);\n",
              "      const chunk = new Uint8Array(fileData, position, length);\n",
              "      position += length;\n",
              "\n",
              "      const base64 = btoa(String.fromCharCode.apply(null, chunk));\n",
              "      yield {\n",
              "        response: {\n",
              "          action: 'append',\n",
              "          file: file.name,\n",
              "          data: base64,\n",
              "        },\n",
              "      };\n",
              "\n",
              "      let percentDone = fileData.byteLength === 0 ?\n",
              "          100 :\n",
              "          Math.round((position / fileData.byteLength) * 100);\n",
              "      percent.textContent = `${percentDone}% done`;\n",
              "\n",
              "    } while (position < fileData.byteLength);\n",
              "  }\n",
              "\n",
              "  // All done.\n",
              "  yield {\n",
              "    response: {\n",
              "      action: 'complete',\n",
              "    }\n",
              "  };\n",
              "}\n",
              "\n",
              "scope.google = scope.google || {};\n",
              "scope.google.colab = scope.google.colab || {};\n",
              "scope.google.colab._files = {\n",
              "  _uploadFiles,\n",
              "  _uploadFilesContinue,\n",
              "};\n",
              "})(self);\n",
              "</script> "
            ]
          },
          "metadata": {}
        },
        {
          "output_type": "stream",
          "name": "stdout",
          "text": [
            "Saving imbalanced_data.csv to imbalanced_data.csv\n"
          ]
        }
      ]
    },
    {
      "cell_type": "markdown",
      "source": [
        "# **1. Dataset Import and Exploration**"
      ],
      "metadata": {
        "id": "mX0VtUrfXfMu"
      }
    },
    {
      "cell_type": "code",
      "source": [
        "import pandas as pd\n",
        "import seaborn as sns\n",
        "import matplotlib.pyplot as plt\n",
        "\n",
        "# Load dataset\n",
        "df = pd.read_csv('imbalanced_data.csv')  # Replace with your dataset path\n",
        "\n",
        "# Dataset overview\n",
        "print(df.info())\n",
        "print(df['target'].value_counts())\n",
        "\n",
        "# Plot target class distribution\n",
        "sns.countplot(x='target', data=df)\n",
        "plt.title(\"Class Distribution\")\n",
        "plt.show()\n"
      ],
      "metadata": {
        "colab": {
          "base_uri": "https://localhost:8080/",
          "height": 871
        },
        "id": "3_jMIFVFXLXP",
        "outputId": "4bbc49c4-803e-4957-b3eb-60bdb0098896"
      },
      "execution_count": 3,
      "outputs": [
        {
          "output_type": "stream",
          "name": "stdout",
          "text": [
            "<class 'pandas.core.frame.DataFrame'>\n",
            "RangeIndex: 1000 entries, 0 to 999\n",
            "Data columns (total 11 columns):\n",
            " #   Column      Non-Null Count  Dtype  \n",
            "---  ------      --------------  -----  \n",
            " 0   feature_1   1000 non-null   float64\n",
            " 1   feature_2   1000 non-null   float64\n",
            " 2   feature_3   1000 non-null   float64\n",
            " 3   feature_4   1000 non-null   float64\n",
            " 4   feature_5   1000 non-null   float64\n",
            " 5   feature_6   1000 non-null   float64\n",
            " 6   feature_7   1000 non-null   float64\n",
            " 7   feature_8   1000 non-null   float64\n",
            " 8   feature_9   1000 non-null   float64\n",
            " 9   feature_10  1000 non-null   float64\n",
            " 10  target      1000 non-null   float64\n",
            "dtypes: float64(11)\n",
            "memory usage: 86.1 KB\n",
            "None\n",
            "target\n",
            "0.0    900\n",
            "1.0    100\n",
            "Name: count, dtype: int64\n"
          ]
        },
        {
          "output_type": "display_data",
          "data": {
            "text/plain": [
              "<Figure size 640x480 with 1 Axes>"
            ],
            "image/png": "[encoded data removed]"
          },
          "metadata": {}
        }
      ]
    },
    {
      "cell_type": "markdown",
      "source": [
        "# 2. Techniques for Handling Imbalanced **Data**"
      ],
      "metadata": {
        "id": "GkfK_yzcXo8Y"
      }
    },
    {
      "cell_type": "code",
      "source": [
        "from imblearn.over_sampling import RandomOverSampler, SMOTE\n",
        "from imblearn.under_sampling import RandomUnderSampler\n",
        "\n",
        "# Separate features and target\n",
        "X = df.drop('target', axis=1)\n",
        "y = df['target']\n",
        "\n",
        "# Oversampling\n",
        "ros = RandomOverSampler(random_state=42)\n",
        "X_ros, y_ros = ros.fit_resample(X, y)\n",
        "\n",
        "# Undersampling\n",
        "rus = RandomUnderSampler(random_state=42)\n",
        "X_rus, y_rus = rus.fit_resample(X, y)\n",
        "\n",
        "# SMOTE\n",
        "smote = SMOTE(random_state=42)\n",
        "X_smote, y_smote = smote.fit_resample(X, y)\n"
      ],
      "metadata": {
        "id": "XfRgmaqaXnaX"
      },
      "execution_count": 4,
      "outputs": []
    },
    {
      "cell_type": "markdown",
      "source": [
        "# **3. Classifier Evaluation**"
      ],
      "metadata": {
        "id": "wU4oqf7sX4Le"
      }
    },
    {
      "cell_type": "code",
      "source": [
        "from sklearn.linear_model import LogisticRegression\n",
        "from sklearn.metrics import classification_report, roc_auc_score\n",
        "from sklearn.model_selection import train_test_split\n",
        "\n",
        "# Train-test split for original data\n",
        "X_train, X_test, y_train, y_test = train_test_split(X, y, test_size=0.3, random_state=42)\n",
        "\n",
        "# Train and evaluate classifier\n",
        "def evaluate_classifier(X_train, y_train, X_test, y_test, class_weight=None):\n",
        "    model = LogisticRegression(class_weight=class_weight, random_state=42)\n",
        "    model.fit(X_train, y_train)\n",
        "    y_pred = model.predict(X_test)\n",
        "    y_proba = model.predict_proba(X_test)[:, 1]\n",
        "\n",
        "    print(classification_report(y_test, y_pred))\n",
        "    print(\"AUC-ROC:\", roc_auc_score(y_test, y_proba))\n",
        "\n",
        "# Evaluate on original data\n",
        "print(\"Original Data Performance:\")\n",
        "evaluate_classifier(X_train, y_train, X_test, y_test)\n",
        "\n",
        "# Evaluate on resampled data\n",
        "print(\"Random Oversampling Performance:\")\n",
        "X_train_ros, X_test_ros, y_train_ros, y_test_ros = train_test_split(X_ros, y_ros, test_size=0.3, random_state=42)\n",
        "evaluate_classifier(X_train_ros, y_train_ros, X_test_ros, y_test_ros)\n",
        "\n",
        "print(\"Random Undersampling Performance:\")\n",
        "X_train_rus, X_test_rus, y_train_rus, y_test_rus = train_test_split(X_rus, y_rus, test_size=0.3, random_state=42)\n",
        "evaluate_classifier(X_train_rus, y_train_rus, X_test_rus, y_test_rus)\n",
        "\n",
        "print(\"SMOTE Performance:\")\n",
        "X_train_smote, X_test_smote, y_train_smote, y_test_smote = train_test_split(X_smote, y_smote, test_size=0.3, random_state=42)\n",
        "evaluate_classifier(X_train_smote, y_train_smote, X_test_smote, y_test_smote)\n",
        "\n",
        "print(\"Class Weighting Performance:\")\n",
        "evaluate_classifier(X_train, y_train, X_test, y_test, class_weight='balanced')\n"
      ],
      "metadata": {
        "colab": {
          "base_uri": "https://localhost:8080/"
        },
        "id": "PKxNpFuVX3wJ",
        "outputId": "c1f24913-12bf-47ff-e458-c86626382194"
      },
      "execution_count": 5,
      "outputs": [
        {
          "output_type": "stream",
          "name": "stdout",
          "text": [
            "Original Data Performance:\n",
            "              precision    recall  f1-score   support\n",
            "\n",
            "         0.0       0.92      1.00      0.96       275\n",
            "         1.0       0.00      0.00      0.00        25\n",
            "\n",
            "    accuracy                           0.92       300\n",
            "   macro avg       0.46      0.50      0.48       300\n",
            "weighted avg       0.84      0.92      0.88       300\n",
            "\n",
            "AUC-ROC: 0.3892363636363636\n",
            "Random Oversampling Performance:\n",
            "              precision    recall  f1-score   support\n",
            "\n",
            "         0.0       0.54      0.53      0.54       267\n",
            "         1.0       0.55      0.56      0.55       273\n",
            "\n",
            "    accuracy                           0.54       540\n",
            "   macro avg       0.54      0.54      0.54       540\n",
            "weighted avg       0.54      0.54      0.54       540\n",
            "\n",
            "AUC-ROC: 0.539572786763798\n",
            "Random Undersampling Performance:\n",
            "              precision    recall  f1-score   support\n",
            "\n",
            "         0.0       0.50      0.48      0.49        31\n",
            "         1.0       0.47      0.48      0.47        29\n",
            "\n",
            "    accuracy                           0.48        60\n",
            "   macro avg       0.48      0.48      0.48        60\n",
            "weighted avg       0.48      0.48      0.48        60\n",
            "\n",
            "AUC-ROC: 0.46162402669632924\n",
            "SMOTE Performance:\n",
            "              precision    recall  f1-score   support\n",
            "\n",
            "         0.0       0.53      0.50      0.51       267\n",
            "         1.0       0.54      0.57      0.55       273\n",
            "\n",
            "    accuracy                           0.54       540\n",
            "   macro avg       0.53      0.53      0.53       540\n",
            "weighted avg       0.53      0.54      0.53       540\n",
            "\n",
            "AUC-ROC: 0.5292285741723943\n",
            "Class Weighting Performance:\n",
            "              precision    recall  f1-score   support\n",
            "\n",
            "         0.0       0.91      0.62      0.74       275\n",
            "         1.0       0.07      0.32      0.12        25\n",
            "\n",
            "    accuracy                           0.60       300\n",
            "   macro avg       0.49      0.47      0.43       300\n",
            "weighted avg       0.84      0.60      0.69       300\n",
            "\n",
            "AUC-ROC: 0.40683636363636366\n"
          ]
        },
        {
          "output_type": "stream",
          "name": "stderr",
          "text": [
            "/usr/local/lib/python3.10/dist-packages/sklearn/metrics/_classification.py:1531: UndefinedMetricWarning: Precision is ill-defined and being set to 0.0 in labels with no predicted samples. Use `zero_division` parameter to control this behavior.\n",
            "  _warn_prf(average, modifier, f\"{metric.capitalize()} is\", len(result))\n",
            "/usr/local/lib/python3.10/dist-packages/sklearn/metrics/_classification.py:1531: UndefinedMetricWarning: Precision is ill-defined and being set to 0.0 in labels with no predicted samples. Use `zero_division` parameter to control this behavior.\n",
            "  _warn_prf(average, modifier, f\"{metric.capitalize()} is\", len(result))\n",
            "/usr/local/lib/python3.10/dist-packages/sklearn/metrics/_classification.py:1531: UndefinedMetricWarning: Precision is ill-defined and being set to 0.0 in labels with no predicted samples. Use `zero_division` parameter to control this behavior.\n",
            "  _warn_prf(average, modifier, f\"{metric.capitalize()} is\", len(result))\n"
          ]
        }
      ]
    },
    {
      "cell_type": "markdown",
      "source": [
        "# **4. Performance Metrics**"
      ],
      "metadata": {
        "id": "xYsUf4GTYHRm"
      }
    },
    {
      "cell_type": "code",
      "source": [
        "import pandas as pd\n",
        "\n",
        "# Example table\n",
        "metrics = {\n",
        "    'Technique': ['Original', 'Random Oversampling', 'Random Undersampling', 'SMOTE', 'Class Weighting'],\n",
        "    'Precision': [0.8, 0.85, 0.75, 0.87, 0.83],  # Replace with actual values\n",
        "    'Recall': [0.6, 0.9, 0.65, 0.88, 0.82],\n",
        "    'F1-Score': [0.7, 0.87, 0.7, 0.87, 0.83],\n",
        "    'AUC-ROC': [0.72, 0.88, 0.7, 0.89, 0.84]\n",
        "}\n",
        "\n",
        "df_metrics = pd.DataFrame(metrics)\n",
        "print(df_metrics)\n"
      ],
      "metadata": {
        "colab": {
          "base_uri": "https://localhost:8080/"
        },
        "id": "-CAn_KToYDN-",
        "outputId": "a5a8d559-3cbd-40b0-87f4-10c2fb556ffd"
      },
      "execution_count": 6,
      "outputs": [
        {
          "output_type": "stream",
          "name": "stdout",
          "text": [
            "              Technique  Precision  Recall  F1-Score  AUC-ROC\n",
            "0              Original       0.80    0.60      0.70     0.72\n",
            "1   Random Oversampling       0.85    0.90      0.87     0.88\n",
            "2  Random Undersampling       0.75    0.65      0.70     0.70\n",
            "3                 SMOTE       0.87    0.88      0.87     0.89\n",
            "4       Class Weighting       0.83    0.82      0.83     0.84\n"
          ]
        }
      ]
    },
    {
      "cell_type": "markdown",
      "source": [],
      "metadata": {
        "id": "-0eBYTraYODP"
      }
    }
  ]
}